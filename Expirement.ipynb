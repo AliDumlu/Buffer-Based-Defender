{
 "cells": [
  {
   "cell_type": "markdown",
   "source": [
    "# Set up the experiment"
   ],
   "metadata": {
    "collapsed": false
   }
  },
  {
   "cell_type": "markdown",
   "source": [
    "## Import Required Libraries"
   ],
   "metadata": {
    "collapsed": false
   }
  },
  {
   "cell_type": "code",
   "execution_count": 1,
   "outputs": [
    {
     "name": "stderr",
     "output_type": "stream",
     "text": [
      "Using TensorFlow backend.\n"
     ]
    }
   ],
   "source": [
    "import numpy as np\n",
    "from ThresholdCalculator import ThresholdCalculator\n",
    "from tensorflow import keras\n",
    "import tensorflow as tf\n",
    "from keras.datasets import cifar10\n",
    "import Evaluation\n",
    "from AdversarialGenerator import AdversarialGenerator"
   ],
   "metadata": {
    "collapsed": false,
    "pycharm": {
     "name": "#%%\n"
    }
   }
  },
  {
   "cell_type": "markdown",
   "source": [
    "## Load Dateset"
   ],
   "metadata": {
    "collapsed": false
   }
  },
  {
   "cell_type": "code",
   "execution_count": null,
   "outputs": [],
   "source": [
    "# Load dataset\n",
    "(x_train, y_train), (x_test, y_test) = cifar10.load_data()\n",
    "\n",
    "# Data normalization\n",
    "x_train = x_train.astype('float32')\n",
    "x_test =  x_test.astype('float32')\n",
    "x_train = x_train / 255.0\n",
    "x_test = x_test / 255.0"
   ],
   "metadata": {
    "collapsed": false,
    "pycharm": {
     "name": "#%%\n"
    }
   }
  },
  {
   "cell_type": "markdown",
   "source": [
    "## Load Image Classifiers"
   ],
   "metadata": {
    "collapsed": false
   }
  },
  {
   "cell_type": "code",
   "execution_count": null,
   "outputs": [],
   "source": [
    "# Disable eager execution mode of tensorflow to run Adversarial Attack\n",
    "tf.compat.v1.disable_eager_execution()\n",
    "\n",
    "MLP = keras.models.load_model('./Models/MLP.h5')\n",
    "VGG19 = keras.models.load_model('./Models/VGG19.h5')\n",
    "ResNet50 = keras.models.load_model('./Models/ResNet50.h5')"
   ],
   "metadata": {
    "collapsed": false,
    "pycharm": {
     "name": "#%%\n"
    }
   }
  },
  {
   "cell_type": "markdown",
   "source": [
    "## Generate Adversarial Examples"
   ],
   "metadata": {
    "collapsed": false
   }
  },
  {
   "cell_type": "markdown",
   "source": [
    "### Prepare Adversarial Generator"
   ],
   "metadata": {
    "collapsed": false
   }
  },
  {
   "cell_type": "code",
   "execution_count": null,
   "outputs": [],
   "source": [
    "#Number of adversarial examples to be generated\n",
    "n = 500\n",
    "examples_path = \"./Adversarial_Examples/\"\n",
    "MLP_adv_gen = AdversarialGenerator(n,x_test,examples_path,\"MLP\",MLP)\n",
    "VGG19_adv_gen = AdversarialGenerator(n,x_test,examples_path,\"VGG19\",VGG19)\n",
    "ResNet50_adv_gen = AdversarialGenerator(n,x_test,examples_path,\"ResNet50\",ResNet50)\n"
   ],
   "metadata": {
    "collapsed": false,
    "pycharm": {
     "name": "#%%\n"
    }
   }
  },
  {
   "cell_type": "markdown",
   "source": [
    "### Generate Adversarial Examples for MLP"
   ],
   "metadata": {
    "collapsed": false
   }
  },
  {
   "cell_type": "markdown",
   "source": [
    "### Basic Iterative Method (BIM)"
   ],
   "metadata": {
    "collapsed": false
   }
  },
  {
   "cell_type": "code",
   "execution_count": null,
   "outputs": [],
   "source": [
    "#MLP_adv_gen.generate_adversarial_examples(\"BIM\")\n",
    "VGG19_adv_gen.generate_adversarial_examples(\"BIM\")\n",
    "ResNet50_adv_gen.generate_adversarial_examples(\"BIM\")"
   ],
   "metadata": {
    "collapsed": false,
    "pycharm": {
     "name": "#%%\n"
    }
   }
  },
  {
   "cell_type": "markdown",
   "source": [
    "### Carlini and Wagner (CW)"
   ],
   "metadata": {
    "collapsed": false
   }
  },
  {
   "cell_type": "code",
   "execution_count": null,
   "outputs": [],
   "source": [
    "MLP_adv_gen.generate_adversarial_examples(\"CW\")"
   ],
   "metadata": {
    "collapsed": false,
    "pycharm": {
     "name": "#%%\n"
    }
   }
  },
  {
   "cell_type": "markdown",
   "source": [
    "### DeepFool (DF)"
   ],
   "metadata": {
    "collapsed": false
   }
  },
  {
   "cell_type": "code",
   "execution_count": null,
   "outputs": [],
   "source": [
    "MLP_adv_gen.generate_adversarial_examples(\"DF\")"
   ],
   "metadata": {
    "collapsed": false,
    "pycharm": {
     "name": "#%%\n"
    }
   }
  },
  {
   "cell_type": "markdown",
   "source": [
    "### Fast Gradient Sign Method (FGSM)"
   ],
   "metadata": {
    "collapsed": false
   }
  },
  {
   "cell_type": "code",
   "execution_count": null,
   "outputs": [],
   "source": [
    "# MLP_adv_gen = AdversarialGenerator(n,x_test,examples_path,\"MLP\",MLP)\n",
    "# MLP_adv_gen.generate_adversarial_examples(\"FGSM\")\n",
    "\n",
    "VGG19_adv_gen = AdversarialGenerator(n,x_test,examples_path,\"VGG19\",VGG19)\n",
    "VGG19_adv_gen.generate_adversarial_examples(\"FGSM\")\n",
    "\n",
    "ResNet50_adv_gen = AdversarialGenerator(n,x_test,examples_path,\"ResNet50\",ResNet50)\n",
    "ResNet50_adv_gen.generate_adversarial_examples(\"FGSM\")"
   ],
   "metadata": {
    "collapsed": false,
    "pycharm": {
     "name": "#%%\n"
    }
   }
  },
  {
   "cell_type": "markdown",
   "source": [
    "### PixelAttack (PA)"
   ],
   "metadata": {
    "collapsed": false
   }
  },
  {
   "cell_type": "code",
   "execution_count": null,
   "outputs": [],
   "source": [
    "MLP_adv_gen.generate_adversarial_examples(\"PA\")"
   ],
   "metadata": {
    "collapsed": false,
    "pycharm": {
     "name": "#%%\n"
    }
   }
  },
  {
   "cell_type": "markdown",
   "source": [
    "### Square Attack (SA)"
   ],
   "metadata": {
    "collapsed": false
   }
  },
  {
   "cell_type": "code",
   "execution_count": null,
   "outputs": [],
   "source": [
    "MLP_adv_gen = AdversarialGenerator(n,x_test,examples_path,\"MLP\",MLP)\n",
    "MLP_adv_gen.generate_adversarial_examples(\"SA\")"
   ],
   "metadata": {
    "collapsed": false,
    "pycharm": {
     "name": "#%%\n"
    }
   }
  },
  {
   "cell_type": "markdown",
   "source": [
    "### Spatial Transformations Attack (ST)"
   ],
   "metadata": {
    "collapsed": false
   }
  },
  {
   "cell_type": "code",
   "execution_count": null,
   "outputs": [],
   "source": [
    "# MLP_adv_gen.generate_adversarial_examples(\"ST\")\n",
    "# VGG19_adv_gen.generate_adversarial_examples(\"ST\")\n",
    "ResNet50_adv_gen.generate_adversarial_examples(\"ST\")"
   ],
   "metadata": {
    "collapsed": false,
    "pycharm": {
     "name": "#%%\n"
    }
   }
  },
  {
   "cell_type": "markdown",
   "source": [
    "### Universal Adversarial Perturbations (UAP) Attack"
   ],
   "metadata": {
    "collapsed": false
   }
  },
  {
   "cell_type": "code",
   "execution_count": null,
   "outputs": [],
   "source": [
    "# MLP_adv_gen = AdversarialGenerator(n,x_test,examples_path,\"MLP\",MLP)\n",
    "MLP_adv_gen.generate_adversarial_examples(\"UAP\")\n",
    "VGG19_adv_gen.generate_adversarial_examples(\"UAP\")\n",
    "ResNet50_adv_gen.generate_adversarial_examples(\"UAP\")"
   ],
   "metadata": {
    "collapsed": false,
    "pycharm": {
     "name": "#%%\n"
    }
   }
  },
  {
   "cell_type": "code",
   "execution_count": null,
   "outputs": [],
   "source": [
    "MLP_adv_gen = AdversarialGenerator(n,x_test,examples_path,\"MLP\",MLP)\n",
    "MLP_adv_gen.generate_adversarial_examples(\"UAP\")"
   ],
   "metadata": {
    "collapsed": false,
    "pycharm": {
     "name": "#%%\n"
    }
   }
  },
  {
   "cell_type": "markdown",
   "source": [
    "### Zeroth-Order Optimization (ZOO) Attack"
   ],
   "metadata": {
    "collapsed": false
   }
  },
  {
   "cell_type": "code",
   "execution_count": null,
   "outputs": [],
   "source": [
    "# MLP_adv_gen = AdversarialGenerator(n,x_test,examples_path,\"MLP\",MLP)\n",
    "# MLP_adv_gen.generate_adversarial_examples(\"ZOO\")\n",
    "\n",
    "# VGG19_adv_gen = AdversarialGenerator(n,x_test,examples_path,\"VGG19\",VGG19)\n",
    "# VGG19_adv_gen.generate_adversarial_examples(\"ZOO\")\n",
    "\n",
    "ResNet50_adv_gen = AdversarialGenerator(n,x_test,examples_path,\"ResNet50\",ResNet50)\n",
    "ResNet50_adv_gen.generate_adversarial_examples(\"ZOO\")"
   ],
   "metadata": {
    "collapsed": false,
    "pycharm": {
     "name": "#%%\n"
    }
   }
  },
  {
   "cell_type": "markdown",
   "source": [
    "# Evaluate The Defense"
   ],
   "metadata": {
    "collapsed": false
   }
  },
  {
   "cell_type": "markdown",
   "source": [
    "## Evaluate Threshold Value"
   ],
   "metadata": {
    "collapsed": false
   }
  },
  {
   "cell_type": "code",
   "execution_count": 2,
   "outputs": [
    {
     "name": "stdout",
     "output_type": "stream",
     "text": [
      "\n",
      "FGSM\n",
      "\n",
      "BIM\n",
      "\n",
      "UAP\n",
      "\n",
      "PA\n",
      "\n",
      "ST\n",
      "\n",
      "ZOO\n"
     ]
    }
   ],
   "source": [
    "Evaluation.test_attacks(threshold=1.7,num_of_runs=1)"
   ],
   "metadata": {
    "collapsed": false,
    "pycharm": {
     "name": "#%%\n"
    }
   }
  },
  {
   "cell_type": "code",
   "execution_count": 3,
   "outputs": [],
   "source": [
    "x_org, x_adv = Evaluation.load(\"PA\",\"MLP\")\n",
    "max_threshold, mean_threshold =ThresholdCalculator(x_org,x_adv).calculate_threshold(norm=1)\n",
    "thresholds = np.linspace(start=max_threshold - mean_threshold, stop=max_threshold + mean_threshold, num=14)\n",
    "Evaluation.test_thresholds(thresholds=thresholds, num_of_runs=1, norm=1)"
   ],
   "metadata": {
    "collapsed": false,
    "pycharm": {
     "name": "#%%\n"
    }
   }
  },
  {
   "cell_type": "code",
   "execution_count": 4,
   "outputs": [],
   "source": [
    "max_threshold, mean_threshold =ThresholdCalculator(x_org,x_adv).calculate_threshold(norm=2)\n",
    "thresholds = np.linspace(start=max_threshold - mean_threshold, stop=max_threshold + mean_threshold, num=14)\n",
    "Evaluation.test_thresholds(thresholds=thresholds, num_of_runs=1, norm=2)"
   ],
   "metadata": {
    "collapsed": false,
    "pycharm": {
     "name": "#%%\n"
    }
   }
  },
  {
   "cell_type": "code",
   "execution_count": 5,
   "outputs": [],
   "source": [
    "max_threshold, mean_threshold =ThresholdCalculator(x_org,x_adv).calculate_threshold(norm=3)\n",
    "thresholds = np.linspace(start=max_threshold - mean_threshold, stop=max_threshold + mean_threshold, num=14)\n",
    "Evaluation.test_thresholds(thresholds=thresholds, num_of_runs=1, norm=3)"
   ],
   "metadata": {
    "collapsed": false,
    "pycharm": {
     "name": "#%%\n"
    }
   }
  },
  {
   "cell_type": "markdown",
   "source": [
    "## Evaluate Buffer size\n"
   ],
   "metadata": {
    "collapsed": false,
    "pycharm": {
     "name": "#%% md\n"
    }
   }
  },
  {
   "cell_type": "code",
   "execution_count": 2,
   "outputs": [],
   "source": [
    "org, adv = Evaluation.load(\"PA\",\"MLP\")\n",
    "images, labels = Evaluation.combine(org,adv)"
   ],
   "metadata": {
    "collapsed": false,
    "pycharm": {
     "name": "#%%\n"
    }
   }
  },
  {
   "cell_type": "code",
   "execution_count": 3,
   "outputs": [
    {
     "name": "stdout",
     "output_type": "stream",
     "text": [
      "[0.565, 0.823, 1.0, 1.0, 1.0]\n",
      "[0.997, 0.999, 1.0, 0.998, 0.999]\n",
      "[0.56, 0.827, 1.0, 1.0, 1.0]\n",
      "[0.996, 0.998, 0.994, 0.998, 0.998]\n",
      "[0.551, 0.815, 1.0, 1.0, 1.0]\n",
      "[0.992, 0.999, 0.999, 0.998, 0.996]\n"
     ]
    }
   ],
   "source": [
    "images = images.reshape(1000,32*32*3)\n",
    "buffer_sizes = list(range(200,1050,200))\n",
    "Evaluation.test_buffer_sizes(buffer_sizes=buffer_sizes, threshold=2.12,som_data=images)"
   ],
   "metadata": {
    "collapsed": false,
    "pycharm": {
     "name": "#%%\n"
    }
   }
  }
 ],
 "metadata": {
  "kernelspec": {
   "name": "sgb",
   "language": "python",
   "display_name": "SGB"
  },
  "language_info": {
   "codemirror_mode": {
    "name": "ipython",
    "version": 2
   },
   "file_extension": ".py",
   "mimetype": "text/x-python",
   "name": "python",
   "nbconvert_exporter": "python",
   "pygments_lexer": "ipython2",
   "version": "2.7.6"
  }
 },
 "nbformat": 4,
 "nbformat_minor": 0
}